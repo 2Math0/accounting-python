{
 "cells": [
  {
   "cell_type": "code",
   "execution_count": 71,
   "id": "fcca15d7",
   "metadata": {},
   "outputs": [
    {
     "data": {
      "text/html": [
       "<html><style>\n",
       "\n",
       "        </style></html>"
      ],
      "text/plain": [
       "<IPython.core.display.HTML object>"
      ]
     },
     "execution_count": 71,
     "metadata": {},
     "output_type": "execute_result"
    }
   ],
   "source": [
    "from IPython.core.display import HTML\n",
    "# just getting it in the palce!\n",
    "HTML(\"\"\"<html><style>\n",
    "\n",
    "        </style></html>\"\"\") "
   ]
  },
  {
   "cell_type": "markdown",
   "id": "6165d4a9",
   "metadata": {},
   "source": [
    "### Implementations\n",
    "Numpy for upleveled Math and Matrices\n",
    "\n",
    "Pandas for tables and excel functions\n"
   ]
  },
  {
   "cell_type": "code",
   "execution_count": 72,
   "id": "ae1e3324",
   "metadata": {},
   "outputs": [],
   "source": [
    "import numpy as np\n",
    "import pandas as pd"
   ]
  },
  {
   "cell_type": "markdown",
   "id": "1ac56b00",
   "metadata": {},
   "source": [
    "# Evaluation\n",
    "\n",
    "This part will be about evaluatin subject which is __'the evaluation of the project from the financial and non financial point of view to enable the desicion maker to make desicion.'__\n",
    "\n",
    "- The project may be new or existing investment, machine, product, employees, department, or anything that affect te company's __Revenues__ and __Expenses__\n",
    "\n",
    "### Types of Evaluation :-\n",
    "1. __Internal Evaluation__: is the evaluation of _existing project_ and the decision will be either _continue_ or _cancelling_ project.\n",
    "\n",
    "2. __External Evaluation__ : is the evaluation od _a new project_ and the decision will be either _accept_ or _reject_ the project.\n",
    "\n",
    "- The tools and methods used in internal evaluation are differrent from those used in external evaluation.\n",
    "\n",
    "### Methods and Tools of External Evaluation :- \n",
    "#### 1. Net present Value method __(NPV)__ :\n",
    "* also called discounted cashflow method\n",
    "\n",
    "This method evaluate the project from the point of cash flow, by means that, if the project generate cash inflow _(return)_ more than it's cash outflow _(costs)_, then th project will be profitable and _accepted_.\n",
    "But when we compare cash inflow & outflow, we must take into consideration __The time value of money concept__.\n",
    "\n",
    "__Time value of money :-__ it means that the amount of money today will worth more than the same amount of money on the future, as there is __'inflation'__ and prices are increased.\n",
    "\n",
    "_Therefore_, when we compare th cash inflow and outfolw it must be at the same moment, and this time will be now (zero moment) by calculating _present Value (PV)_.\n",
    "\n",
    "___NPV  =  PV of InFlow - PV of OutFlow___\n",
    "\n",
    "___PV  =  cashFlow x (1 / (1+i)^n)___\n",
    "\n",
    "| n | i |\n",
    "|:-:|:-:|\n",
    "|discount Rate|number of periods|\n",
    "\n",
    "### Case of single amount:\n",
    "\n",
    "Example :  doon coroporation has seen a land cost 100,000$$ at the present time _-it is just first example next times I will use 'k' rather than '000' these zeros, GET USED TO IT! 'IAM LAAAZY'-_ and expected to be sold for 150,000$ after 5 years. The recommended discount rate is 10%"
   ]
  },
  {
   "cell_type": "code",
   "execution_count": 73,
   "id": "a0d23da1",
   "metadata": {},
   "outputs": [
    {
     "name": "stdout",
     "output_type": "stream",
     "text": [
      "93138.19845887324\n"
     ]
    }
   ],
   "source": [
    "# solving pv equations\n",
    "\n",
    "def pv_single_amounnt_calculator(cashflow,i,n):\n",
    "    pv = cashflow*( 1 / (np.power((1+i), n)))\n",
    "    rounded_pv = np.around(pv,2)\n",
    "    return pv\n",
    "    #in biult-in pow() method has less runtime process than usual ^ power sign\n",
    "    #but even with numpy it's faster despite they are numbers only not list which its main usage.\n",
    "    \n",
    "doon_co = {\"cashinflow\": 150000, 'discount_rate': 0.1, 'no_periods': 5, 'cashoutflow':100000}\n",
    "print(pv_single_amounnt_calculator(doon_co['cashinflow'],\n",
    "                                   doon_co['discount_rate'],\n",
    "                                   doon_co['no_periods']))"
   ]
  },
  {
   "cell_type": "code",
   "execution_count": 74,
   "id": "29b64b55",
   "metadata": {},
   "outputs": [
    {
     "name": "stdout",
     "output_type": "stream",
     "text": [
      "(-6861.8, 'rejected')\n"
     ]
    }
   ],
   "source": [
    "# Net Present Value \n",
    "def npv(cash_in,cash_out):\n",
    "    npv = cash_in - cash_out\n",
    "    rounded_npv = np.around(npv,2)\n",
    "    desicion = 'accept' if npv > 0 else 'rejected'\n",
    "    return (rounded_npv,desicion)\n",
    "\n",
    "print(npv(pv_single_amounnt_calculator(doon_co['cashinflow'],\n",
    "                                   doon_co['discount_rate'],\n",
    "                                   doon_co['no_periods']),\n",
    "         doon_co['cashoutflow']))#because cash out flow happened in zero moment so no need to solve it's PV"
   ]
  },
  {
   "cell_type": "markdown",
   "id": "759b1135",
   "metadata": {},
   "source": [
    "### Case of annuities :\n",
    "The cash flow _(inflow & outflow)_ will happen on annuities by means the cash _outflow_ will paid on __installment__ and cash _inflow_ will collected on _installments_."
   ]
  },
  {
   "cell_type": "markdown",
   "id": "c72eb73b",
   "metadata": {},
   "source": [
    "#### 1. Equal annuities :\n",
    "\n",
    "Example : suppose that there is a project in front of the 'Nicholas' which will cost 50,000$$ to be paid one time at begining. The productive life of the project is expected to be 5 years and the Project was expected to produce an equal revenue of 17,000$.\n",
    "The expired value of the product at the end od year 5 will equal to zero. The recommended discount rate is 10%."
   ]
  },
  {
   "cell_type": "code",
   "execution_count": 75,
   "id": "f15451f7",
   "metadata": {},
   "outputs": [
    {
     "name": "stdout",
     "output_type": "stream",
     "text": [
      "(14443.38, 'accept')\n"
     ]
    }
   ],
   "source": [
    "def pv_equal_annuities(cashflow,i,n):\n",
    "    pv = 0\n",
    "    #last nummber in range() is not counted so added one to the period\n",
    "    for period in range(1,n+1):\n",
    "        pv += pv_single_amounnt_calculator(cashflow=cashflow,i=i,n=period)\n",
    "        rounded_pv = np.around(pv,2)\n",
    "    return rounded_pv\n",
    "\n",
    "# inputs of problem\n",
    "Nicholas = {'cashinflow_annually': 17000, 'discount_rate':0.1, 'no_periods': 5, 'cashoutflow' : 50000}\n",
    "\n",
    "#steps to solve it\n",
    "Nicholas.update({'Total PV' : pv_equal_annuities(Nicholas['cashinflow_annually'],\n",
    "                                     Nicholas['discount_rate'],\n",
    "                                     Nicholas['no_periods'])})\n",
    "\n",
    "print(npv(Nicholas['Total PV'],Nicholas['cashoutflow']))"
   ]
  },
  {
   "cell_type": "markdown",
   "id": "aa4b8a8f",
   "metadata": {},
   "source": [
    "#### 2. Different annuities :\n",
    "_Example_ : suppose that the there is a project in front of the investor 'Maman Chagaya' which will cost 50K and it was expected that the new project is going to produce the following revenues during the five years productive life :-\n",
    "\n",
    "| year | revenue (inflow)|\n",
    "|:-:|:-:|\n",
    "|1|27K|\n",
    "|2|22K|\n",
    "|3|15K|\n",
    "|4|12K|\n",
    "|5|10K|\n",
    "\n",
    "recommended discount rate is 10%"
   ]
  },
  {
   "cell_type": "code",
   "execution_count": 76,
   "id": "da72c195",
   "metadata": {},
   "outputs": [
    {
     "name": "stdout",
     "output_type": "stream",
     "text": [
      "(18402.37, 'accept')\n"
     ]
    }
   ],
   "source": [
    "maman = {'cashinflow' : [27000,22000,15000,12000,10000],\n",
    "         'discount_rate': 0.1,\n",
    "         'no.periods': 5,\n",
    "         'cashouflow': 50000}\n",
    "\n",
    "def pv_diff_annuities(cashflow,i,n):\n",
    "    pv = 0\n",
    "    for period in range(1,n+1):\n",
    "        pv += pv_single_amounnt_calculator(cashflow=cashflow[period-1],i=i,n=period)\n",
    "    rounded_pv = np.around(pv,2)\n",
    "    return rounded_pv\n",
    "\n",
    "maman.update({'Total PV': pv_diff_annuities(cashflow=maman['cashinflow'],\n",
    "                                           i=maman['discount_rate'],\n",
    "                                           n=maman['no.periods'])})\n",
    "print(npv(maman['Total PV'],maman['cashouflow']))"
   ]
  },
  {
   "cell_type": "markdown",
   "id": "f5864eb0",
   "metadata": {},
   "source": [
    "### Disadvantages of peresent value method :-\n",
    "\n",
    "1. it assumes _reality (certainty)_ in terms of cash Flow that will happen in the future\n",
    "2. it usually assume _single discount rate_ during the production life of the project \n",
    "3. it takes into consideration only cash items and _ignore non cash items_ (like depreciation)\n",
    "4. it does not take into consideration _the period of restoring the intial investement_ and when te project will genrate profit"
   ]
  },
  {
   "cell_type": "code",
   "execution_count": null,
   "id": "d83c3093",
   "metadata": {},
   "outputs": [],
   "source": []
  }
 ],
 "metadata": {
  "kernelspec": {
   "display_name": "Python 3",
   "language": "python",
   "name": "python3"
  },
  "language_info": {
   "codemirror_mode": {
    "name": "ipython",
    "version": 3
   },
   "file_extension": ".py",
   "mimetype": "text/x-python",
   "name": "python",
   "nbconvert_exporter": "python",
   "pygments_lexer": "ipython3",
   "version": "3.8.8"
  }
 },
 "nbformat": 4,
 "nbformat_minor": 5
}
