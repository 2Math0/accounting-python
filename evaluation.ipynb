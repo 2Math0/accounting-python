{
 "cells": [
  {
   "cell_type": "code",
   "execution_count": 94,
   "id": "fcca15d7",
   "metadata": {},
   "outputs": [
    {
     "data": {
      "text/html": [
       "<html><style>\n",
       "\n",
       "        </style></html>"
      ],
      "text/plain": [
       "<IPython.core.display.HTML object>"
      ]
     },
     "execution_count": 94,
     "metadata": {},
     "output_type": "execute_result"
    }
   ],
   "source": [
    "from IPython.core.display import HTML\n",
    "# just getting it in the palce!\n",
    "HTML(\"\"\"<html><style>\n",
    "\n",
    "        </style></html>\"\"\") "
   ]
  },
  {
   "cell_type": "markdown",
   "id": "6165d4a9",
   "metadata": {},
   "source": [
    "### Implementations\n",
    "Numpy for upleveled Math and Matrices\n",
    "\n",
    "Pandas for tables and excel functions\n",
    "\n",
    "Sympy to solve linear equations"
   ]
  },
  {
   "cell_type": "code",
   "execution_count": 95,
   "id": "ae1e3324",
   "metadata": {},
   "outputs": [],
   "source": [
    "import numpy as np\n",
    "import pandas as pd"
   ]
  },
  {
   "cell_type": "markdown",
   "id": "1ac56b00",
   "metadata": {},
   "source": [
    "# Evaluation\n",
    "\n",
    "This part will be about evaluation subject which is __'the evaluation of the project from the financial and non financial point of view to enable the desicion maker to make desicion.'__\n",
    "\n",
    "- The project may be new or existing investment, machine, product, employees, department, or anything that affect the company's __Revenues__ and __Expenses__\n",
    "\n",
    "### Types of Evaluation :-\n",
    "1. __Internal Evaluation__: is the evaluation of _existing project_ and the decision will be either _continue_ or _cancelling_ project.\n",
    "\n",
    "2. __External Evaluation__ : is the evaluation od _a new project_ and the decision will be either _accept_ or _reject_ the project.\n",
    "\n",
    "- The tools and methods used in internal evaluation are differrent from those used in external evaluation.\n",
    "\n",
    "## Methods and Tools of External Evaluation :- \n",
    "## 1. Net present Value method __(NPV)__ :\n",
    "* also called discounted cashflow method\n",
    "\n",
    "This method evaluate the project from the point of cash flow, by means that, if the project generate cash inflow _(return)_ more than it's cash outflow _(costs)_, then the project will be profitable and _accepted_.\n",
    "But when we compare cash inflow & outflow, we must take into consideration __The time value of money concept__.\n",
    "\n",
    "__Time value of money :-__ it means that the amount of money today will worth more than the same amount of money on the future, as there is __'inflation'__ and prices are increased.\n",
    "\n",
    "_Therefore_, when we compare the cash inflow and outfolw it must be at the same moment, and this time will be now (zero moment) by calculating _present Value (PV)_.\n",
    "\n",
    "___NPV  =  PV of InFlow - PV of OutFlow___\n",
    "\n",
    "___PV  =  cashFlow x (1 / (1+i)^n)___\n",
    "\n",
    "| n | i |\n",
    "|:-:|:-:|\n",
    "|discount Rate|number of periods|\n",
    "\n",
    "### Case of single amount:\n",
    "\n",
    "Example :  doon coroporation has seen a land cost 100,000 at the present time _-it is just first example next times I will use 'k' rather than '000' these zeros, GET USED TO IT! 'IAM LAAAZY'-_ and expected to be sold for 150,000 after 5 years. The recommended discount rate is 10%"
   ]
  },
  {
   "cell_type": "code",
   "execution_count": 96,
   "id": "a0d23da1",
   "metadata": {},
   "outputs": [
    {
     "name": "stdout",
     "output_type": "stream",
     "text": [
      "93138.2\n"
     ]
    }
   ],
   "source": [
    "# solving pv equations\n",
    "\n",
    "def pv_single_amounnt_calculator(cashflow,i,n):\n",
    "    pv = np.around(cashflow*( 1 / (np.power((1+i), n))),2)\n",
    "    rounded_pv = np.around(pv,2)\n",
    "    return pv\n",
    "    #in biult-in pow() method has less runtime process than usual ^ power sign\n",
    "    #but even with numpy it's faster despite they are numbers only not list which its main usage.\n",
    "    \n",
    "doon_co = {\"cashinflow\": 150000, 'discount rate': 0.1, 'full period': 5, 'cashoutflow':100000}\n",
    "print(pv_single_amounnt_calculator(doon_co['cashinflow'],\n",
    "                                   doon_co['discount rate'],\n",
    "                                   doon_co['full period']))"
   ]
  },
  {
   "cell_type": "code",
   "execution_count": 97,
   "id": "29b64b55",
   "metadata": {},
   "outputs": [
    {
     "name": "stdout",
     "output_type": "stream",
     "text": [
      "(-6861.8, 'rejected')\n"
     ]
    }
   ],
   "source": [
    "# Net Present Value \n",
    "def npv(cash_in,cash_out):\n",
    "    npv = cash_in - cash_out\n",
    "    rounded_npv = np.around(npv,2)\n",
    "    desicion = 'accept' if npv > 0 else 'rejected'\n",
    "    return (rounded_npv,desicion)\n",
    "\n",
    "print(npv(pv_single_amounnt_calculator(doon_co['cashinflow'],\n",
    "                                   doon_co['discount rate'],\n",
    "                                   doon_co['full period']),\n",
    "         doon_co['cashoutflow']))#because cash out flow happened in zero moment so no need to solve it's PV"
   ]
  },
  {
   "cell_type": "markdown",
   "id": "759b1135",
   "metadata": {},
   "source": [
    "### Case of annuities :\n",
    "The cash flow _(inflow & outflow)_ will happen on annuities by means the cash _outflow_ will paid on __installment__ and cash _inflow_ will collected on _installments_."
   ]
  },
  {
   "cell_type": "markdown",
   "id": "c72eb73b",
   "metadata": {},
   "source": [
    "#### 1. Equal annuities :\n",
    "\n",
    "Example : suppose that there is a project in front of the 'Nicholas' which will cost 50,000$$ to be paid one time at begining. The productive life of the project is expected to be 5 years and the Project was expected to produce an equal revenue of 17,000.\n",
    "The expired value of the product at the end of year 5 will equal to zero. The recommended discount rate is 10%."
   ]
  },
  {
   "cell_type": "code",
   "execution_count": 110,
   "id": "f15451f7",
   "metadata": {},
   "outputs": [
    {
     "name": "stdout",
     "output_type": "stream",
     "text": [
      "(14443.38, 'accept')\n"
     ]
    }
   ],
   "source": [
    "def pv_equal_annuities(cashflow,i,n,scrap=0):\n",
    "    pv = 0\n",
    "    #last nummber in range() is not counted so added one to the period\n",
    "    for period in range(1,n+1):\n",
    "        pv += pv_single_amounnt_calculator(cashflow=cashflow,i=i,n=period)\n",
    "    pv += pv_single_amounnt_calculator(cashflow=scrap,i=i,n=n)\n",
    "    rounded_pv = np.around(pv,2)\n",
    "    return rounded_pv\n",
    "\n",
    "# inputs of problem\n",
    "Nicholas = {'cashinflow annually': 17000, 'discount rate':0.1, 'full period': 5, 'cashoutflow' : 50000}\n",
    "\n",
    "#steps to solve it\n",
    "Nicholas.update({'Total PV' : pv_equal_annuities(Nicholas['cashinflow annually'],\n",
    "                                     Nicholas['discount rate'],\n",
    "                                     Nicholas['full period'])})\n",
    "\n",
    "print(npv(Nicholas['Total PV'],Nicholas['cashoutflow']))"
   ]
  },
  {
   "cell_type": "markdown",
   "id": "aa4b8a8f",
   "metadata": {},
   "source": [
    "#### 2. Different annuities :\n",
    "_Example_ : suppose that the there is a project in front of the investor 'Maman Chagaya' which will cost 50K and it was expected that the new project is going to produce the following revenues during the five years productive life :-\n",
    "\n",
    "| year | revenue (inflow)|\n",
    "|:-:|:-:|\n",
    "|1|27K|\n",
    "|2|22K|\n",
    "|3|15K|\n",
    "|4|12K|\n",
    "|5|10K|\n",
    "\n",
    "recommended discount rate is 10%"
   ]
  },
  {
   "cell_type": "code",
   "execution_count": 99,
   "id": "da72c195",
   "metadata": {},
   "outputs": [
    {
     "name": "stdout",
     "output_type": "stream",
     "text": [
      "(18402.36, 'accept')\n"
     ]
    }
   ],
   "source": [
    "maman = {'cashinflow' : [27000,22000,15000,12000,10000],\n",
    "         'discount rate': 0.1,\n",
    "         'full period': 5,\n",
    "         'cashouflow': 50000}\n",
    "\n",
    "def pv_diff_annuities(cashflow,i,n):\n",
    "    pv = 0\n",
    "    for period in range(1,n+1):\n",
    "        pv += pv_single_amounnt_calculator(cashflow=cashflow[period-1],i=i,n=period)\n",
    "    rounded_pv = np.around(pv,2)\n",
    "    return rounded_pv\n",
    "\n",
    "maman.update({'Total PV': pv_diff_annuities(cashflow=maman['cashinflow'],\n",
    "                                           i=maman['discount rate'],\n",
    "                                           n=maman['full period'])})\n",
    "print(npv(maman['Total PV'],maman['cashouflow']))"
   ]
  },
  {
   "cell_type": "markdown",
   "id": "f5864eb0",
   "metadata": {},
   "source": [
    "### Disadvantages of peresent value method :-\n",
    "\n",
    "1. it assumes _reality (certainty)_ in terms of cash Flow that will happen in the future\n",
    "2. it usually assume _single discount rate_ during the production life of the project \n",
    "3. it takes into consideration only cash items and _ignore non cash items_ (like depreciation)\n",
    "4. it does not take into consideration _the period of restoring the intial investement_ and when te project will genrate profit"
   ]
  },
  {
   "cell_type": "markdown",
   "id": "01870890",
   "metadata": {},
   "source": [
    "## 2. Payback\n",
    "It is the time period in which the total investment cost will be restored from the net cash inflow.\n",
    "In other words, it measure within how many years the investment cost will be collected back.\n",
    "To calculate the payback period, there are 2 cases :- \n",
    "\n",
    "### case 1 :\n",
    "__annual equal return :__\n",
    "\n",
    "___Payback period = investment cost / annual equal return___\n",
    "\n"
   ]
  },
  {
   "cell_type": "markdown",
   "id": "dc4699ea",
   "metadata": {},
   "source": [
    "_Example_ : Suppose that the lotso company has invested 120k and the expected annual collection within the coming 6 years 27k per year"
   ]
  },
  {
   "cell_type": "code",
   "execution_count": 100,
   "id": "a24a5f21",
   "metadata": {},
   "outputs": [
    {
     "name": "stdout",
     "output_type": "stream",
     "text": [
      "4.44 years\n"
     ]
    }
   ],
   "source": [
    "lotso = {'investment': 120000, 'annual equal return':27000}\n",
    "\n",
    "def payback_annual_equal_return(inv,annual):\n",
    "    payback = inv / annual\n",
    "    rounded_payback = np.around(payback,2)\n",
    "    return f'{rounded_payback} years'\n",
    "\n",
    "print(payback_annual_equal_return(inv=lotso['investment'],\n",
    "                                 annual=lotso['annual equal return']))"
   ]
  },
  {
   "cell_type": "markdown",
   "id": "a117daaa",
   "metadata": {},
   "source": [
    "### case 2:\n",
    "__different returns :-__\n",
    "according to the accumulation of cash inflow.\n",
    "\n",
    "_Example:_ suppose that the DocStrange company has invested 150k and it is expected to achieve the following returns during the coming 6 years\n",
    "\n",
    "|Year|Returns|\n",
    "|:-:|:-:|\n",
    "|1|45K|\n",
    "|2|42K|\n",
    "|3|40K|\n",
    "|4|35K|\n",
    "|5|30K|\n",
    "|6|25K|"
   ]
  },
  {
   "cell_type": "code",
   "execution_count": 101,
   "id": "723105ab",
   "metadata": {},
   "outputs": [
    {
     "name": "stdout",
     "output_type": "stream",
     "text": [
      "{'Payback': 3.657142857142857, 'type of period': 'years'}\n"
     ]
    }
   ],
   "source": [
    "docStrange = {'investment': 150000, 'full period': 6, 'returns': [45000,42000,40000,35000,30000,25000]}\n",
    "\n",
    "def payback_annual_diff_returns(inv,annual):\n",
    "    revenue = 0 \n",
    "    cover = 0\n",
    "    for inflow in range(1,len(annual)):\n",
    "        revenue += annual[inflow-1]\n",
    "        if revenue >= inv:\n",
    "            cover = inflow-1\n",
    "            break\n",
    "    revenue = revenue - annual[cover]\n",
    "    shortage = inv - revenue\n",
    "    rest = shortage / annual[cover]\n",
    "    payback = cover + rest\n",
    "    return {'Payback' : payback,'type of period': 'years'}\n",
    "\n",
    "print(payback_annual_diff_returns(inv=docStrange['investment'],\n",
    "                                 annual=docStrange['returns']))"
   ]
  },
  {
   "cell_type": "markdown",
   "id": "3db7299d",
   "metadata": {},
   "source": [
    "## 3. Internal rate of return (IRR) :- \n",
    "we can calculate the IRR depending on the payback period, but the payback period must be __less than or equal _0.5_ of the productive life__ of the project.\n",
    "\n",
    "___IRR = 1 / Payback Period___"
   ]
  },
  {
   "cell_type": "code",
   "execution_count": 102,
   "id": "cf327814",
   "metadata": {},
   "outputs": [
    {
     "name": "stdout",
     "output_type": "stream",
     "text": [
      "payback period \"3.657142857142857\" is greater than half of full period \"6\"\n"
     ]
    }
   ],
   "source": [
    "def irr(payback_period,full_period):\n",
    "    if payback_period <= (full_period / 2) :\n",
    "        irr = (1 / payback_period)\n",
    "        return irr\n",
    "    else : \n",
    "        return f'payback period \"{payback_period}\" is greater than half of full period \"{full_period}\"'\n",
    "    \n",
    "print(irr(payback_annual_diff_returns(inv=docStrange['investment'],\n",
    "                                 annual=docStrange['returns'])['Payback'],\n",
    "         docStrange['full period']))"
   ]
  },
  {
   "cell_type": "markdown",
   "id": "332d55ca",
   "metadata": {},
   "source": [
    "### What is the IRR and how wecan use it to evaluate the project (either to accept or reject) ?\n",
    "\n",
    "It is a profitability rate indicating to expect profit rate from the new project during it's working life.\n",
    "\n",
    "- in other words it is the rate at which the (PV of inflow) will __equal__ the (PV of outflow) and the __NPV__ will equal ___ZERO___.\n",
    "\n",
    "To decide wiether to accept or reject a project based on the IRR, we should compare the IRR to the recommended discount rate _(or the anticibated profit rate of the firm)_ as follows :- \n",
    "\n",
    "* IRR > recommended rate __then__ accept the prjoect\n",
    "* IRR < recommended rate __then__ reject the project"
   ]
  },
  {
   "cell_type": "markdown",
   "id": "614b9a9b",
   "metadata": {},
   "source": [
    "_Example_ : a new project called Boa Hankok is expected to cost 120k and the expected annual returns are :\n",
    "\n",
    "|Year|Returns|\n",
    "|:--|--:|\n",
    "|1|42K|\n",
    "|2|40K|\n",
    "|3|38K|\n",
    "|4|35K|\n",
    "|5|32K|\n",
    "|6|30K|\n",
    "|7|27K|\n",
    "|8|23K|\n",
    "\n",
    "the anticipated rate of return 12%"
   ]
  },
  {
   "cell_type": "code",
   "execution_count": 103,
   "id": "d0f214e4",
   "metadata": {},
   "outputs": [],
   "source": [
    "Boa = {'full period': 8, 'investment': 120000,\n",
    "       'returns':[43000,40000,38000,35000,32000,30000,27000,23000],\n",
    "       'discount rate': 0.12}\n"
   ]
  },
  {
   "cell_type": "code",
   "execution_count": 104,
   "id": "17d5f23f",
   "metadata": {},
   "outputs": [],
   "source": [
    "from sympy import symbols, Eq, solve"
   ]
  },
  {
   "cell_type": "code",
   "execution_count": 105,
   "id": "c4a39845",
   "metadata": {},
   "outputs": [
    {
     "name": "stdout",
     "output_type": "stream",
     "text": [
      "{'irr_value': 3.582089552238806, 'percent': 0.223613366972374}\n"
     ]
    }
   ],
   "source": [
    "def irr_value(inv,returns):\n",
    "    average_return = sum(returns) / len(returns)\n",
    "    irr_value = inv / average_return\n",
    "    x = symbols('x')\n",
    "    table2 = []\n",
    "    for i in range(1,len(returns)+1):\n",
    "        table2.append(pow(1+x,-i))\n",
    "    eq1 = Eq(sum(table2),irr_value)\n",
    "    return {'irr_value':irr_value,\n",
    "            #always 2nd index in solve list is the positive value which is the percent that we need\n",
    "            'percent':solve(eq1,x)[1]}\n",
    "print(irr_value(Boa['investment'],\n",
    "               Boa['returns']))"
   ]
  },
  {
   "cell_type": "markdown",
   "id": "4ba69d83",
   "metadata": {},
   "source": [
    "## 4. The Accrual Accounting Rate of Return (AARR) :\n",
    "- The AARR represent the rate of incomme generates by an investement\n",
    "- This rate determine the increase in net operating income as a result of the new investement\n",
    "\n",
    "___AARR___ = ___Increase in expected annual operating income / Net initial Investment___\n",
    "\n",
    "___Increase in expected annual operating income___ =\n",
    "\n",
    "___average operating income + scrap value - average operating expense - annual depreciation if exist___\n",
    "\n",
    " - If AARR __>__ desirable rate ----> _accepted_\n",
    " - If AARR __<__ desirable rate ----> _rejected_"
   ]
  },
  {
   "cell_type": "code",
   "execution_count": 106,
   "id": "f80db194",
   "metadata": {},
   "outputs": [],
   "source": [
    "def increase_in_expected_annual_operating_income(income,scrap = 0,exp = 0,dep = 0):\n",
    "    income = (sum(income) / len(income)) if isinstance(income, list) else income\n",
    "    exp = (sum(exp) / len(exp)) if isinstance(exp, list) else exp\n",
    "    return income + scrap - exp - dep"
   ]
  },
  {
   "cell_type": "code",
   "execution_count": 107,
   "id": "381e4ae3",
   "metadata": {},
   "outputs": [],
   "source": [
    "def aarr(annual_operating_income,inv):\n",
    "    inv = sum(inv) if isinstance(inv,list) else inv\n",
    "    return annual_operating_income / inv"
   ]
  },
  {
   "cell_type": "markdown",
   "id": "9ee23c6a",
   "metadata": {},
   "source": [
    "__Example__ : the total cost of expected project 'TW' is amounted to 100K and the annual expected returns during the coming 5 years are :\n",
    "\n",
    "|Year|Returns|\n",
    "|:--|--:|\n",
    "|1|47K|\n",
    "|2|44K|\n",
    "|3|33K|\n",
    "|4|30K|\n",
    "|5|25K|\n",
    "\n",
    "The expected average annual operating expenses is 8000\n",
    "\n",
    "The desired rate of return is 12%"
   ]
  },
  {
   "cell_type": "code",
   "execution_count": 108,
   "id": "e642ceea",
   "metadata": {},
   "outputs": [
    {
     "name": "stdout",
     "output_type": "stream",
     "text": [
      "0.278\n"
     ]
    }
   ],
   "source": [
    "TW = {'returns': [47000,44000,33000,30000,25000],\n",
    "     'full period' : 5,\n",
    "     'investment': 100000,\n",
    "     'expense' : 8000,\n",
    "     'desired rate' : 0.12}\n",
    "print(aarr(annual_operating_income=increase_in_expected_annual_operating_income(income=TW['returns'],\n",
    "                                                                               exp=TW['expense']),\n",
    "           inv=TW['investment']))"
   ]
  },
  {
   "cell_type": "code",
   "execution_count": 109,
   "id": "2f6d0ec8",
   "metadata": {
    "scrolled": true
   },
   "outputs": [
    {
     "name": "stdout",
     "output_type": "stream",
     "text": [
      "False\n"
     ]
    }
   ],
   "source": [
    "def project_acceptance(desired,actual):\n",
    "    return desired >= actual\n",
    "\n",
    "print(\n",
    "    project_acceptance(\n",
    "    actual=aarr(\n",
    "    annual_operating_income=increase_in_expected_annual_operating_income(\n",
    "            income=TW['returns'],exp=TW['expense']),inv=TW['investment']\n",
    "    ),\n",
    "    desired=TW['desired rate']\n",
    "    )\n",
    ")"
   ]
  },
  {
   "cell_type": "markdown",
   "id": "53025902",
   "metadata": {},
   "source": [
    "## 5. The Accounting Rate of Return :\n",
    "The ARR indicating to the profitability of investment during the life of the project.\n",
    "\n",
    "___ARR = average profit / average investment___\n",
    "\n",
    "___average"
   ]
  }
 ],
 "metadata": {
  "kernelspec": {
   "display_name": "Python 3",
   "language": "python",
   "name": "python3"
  },
  "language_info": {
   "codemirror_mode": {
    "name": "ipython",
    "version": 3
   },
   "file_extension": ".py",
   "mimetype": "text/x-python",
   "name": "python",
   "nbconvert_exporter": "python",
   "pygments_lexer": "ipython3",
   "version": "3.8.8"
  }
 },
 "nbformat": 4,
 "nbformat_minor": 5
}
